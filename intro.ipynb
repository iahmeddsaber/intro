{
 "cells": [
  {
   "cell_type": "markdown",
   "id": "7ba7cfd7",
   "metadata": {},
   "source": [
    "# My Data Science Project Notebook"
   ]
  },
  {
   "cell_type": "markdown",
   "id": "ac8f9077",
   "metadata": {},
   "source": [
    "## Introduction\n",
    "\n",
    "In this notebook, we will explore various concepts and tools in the field of data science. We'll delve into data analysis, manipulation, and visualization using popular libraries like pandas, matplotlib, and seaborn. By the end of this notebook, you'll have a solid understanding of the tools available for data science and their practical applications.\n"
   ]
  },
  {
   "cell_type": "markdown",
   "id": "a06c40f2",
   "metadata": {},
   "source": [
    "## Data Science Languages\n",
    "\n",
    "Here are some commonly used data science programming languages:\n",
    "\n",
    "- Python: Widely used for its rich ecosystem of data science libraries.\n",
    "- R: Known for its statistical analysis capabilities and data visualization.\n",
    "- SQL: Essential for working with databases and querying data.\n",
    "- Julia: Known for its high-performance numerical and scientific computing.\n",
    "\n"
   ]
  },
  {
   "cell_type": "markdown",
   "id": "a2314a5d",
   "metadata": {},
   "source": [
    "## Data Science Libraries\n",
    "\n",
    "Here are some essential data science libraries frequently used in projects:\n",
    "\n",
    "- **Pandas**: A powerful library for data manipulation and analysis.\n",
    "- **NumPy**: The fundamental package for numerical computing in Python.\n",
    "- **Matplotlib**: A widely-used library for creating static, animated, and interactive visualizations.\n",
    "- **Seaborn**: Built on top of Matplotlib, it provides a higher-level interface for statistical graphics.\n",
    "- **Scikit-learn**: A machine learning library offering various tools for classification, regression, and more.\n",
    "- **TensorFlow**: An open-source deep learning framework developed by Google.\n",
    "- **PyTorch**: A widely-used deep learning framework known for its dynamic computation graph.\n",
    "- **Statsmodels**: Used for estimating and interpreting statistical models.\n",
    "- **NLTK**: The Natural Language Toolkit for working with human language data.\n",
    "- **Beautiful Soup**: A library for web scraping tasks.\n"
   ]
  },
  {
   "cell_type": "markdown",
   "id": "3d67ae9d",
   "metadata": {},
   "source": [
    "## Arithmetic Expression Examples\n",
    "\n",
    "Arithmetic expressions are fundamental in programming and data analysis. They involve mathematical operations like addition, subtraction, multiplication, and division. Let's explore some arithmetic expression examples:\n",
    "\n",
    "1. Addition: Adding two numbers together.\n",
    "   ```python\n",
    "   result = 5 + 3\n",
    "   # result will be 8\n",
    "\n",
    "difference = 10 - 4\n",
    "# difference will be 6\n",
    "\n",
    "quotient = 15 / 3\n",
    "# quotient will be 5.0\n",
    "\n",
    "\n"
   ]
  },
  {
   "cell_type": "code",
   "execution_count": 2,
   "id": "6b251e5b",
   "metadata": {},
   "outputs": [
    {
     "name": "stdout",
     "output_type": "stream",
     "text": [
      "Multiplication: 15\n",
      "Addition: 17\n"
     ]
    }
   ],
   "source": [
    "# Multiplication\n",
    "num1 = 5\n",
    "num2 = 3\n",
    "product = num1 * num2\n",
    "print(\"Multiplication:\", product)\n",
    "\n",
    "# Addition\n",
    "num3 = 10\n",
    "num4 = 7\n",
    "sum_result = num3 + num4\n",
    "print(\"Addition:\", sum_result)\n",
    "\n"
   ]
  },
  {
   "cell_type": "markdown",
   "id": "898f9bf2",
   "metadata": {},
   "source": [
    "## Objectives\n",
    "\n",
    "In this project, we aim to achieve the following objectives:\n",
    "\n",
    "1. **Explore Data Science Languages**: Introduce and discuss programming languages commonly used in data science, including Python, R, SQL, and Julia.\n",
    "\n",
    "2. **Discover Data Science Libraries**: Explore key libraries such as Pandas, NumPy, Matplotlib, Seaborn, and others for data manipulation, visualization, and analysis.\n",
    "\n",
    "3. **Understand Data Science Tools**: Create a comprehensive table of various tools used in data science, including libraries, frameworks, and software.\n",
    "\n",
    "4. **Learn Arithmetic Expressions**: Gain familiarity with basic arithmetic expressions for addition, subtraction, multiplication, and division, along with the use of parentheses.\n",
    "\n",
    "5. **Perform Simple Calculations**: Apply Python code to perform arithmetic calculations involving multiplication and addition.\n",
    "\n",
    "6. **Convert Units**: Develop code to convert minutes to hours, enhancing our understanding of basic unit conversions.\n",
    "\n",
    "7. **Share Notebook**: Share the notebook on GitHub to demonstrate the application of Markdown and code cells for documentation."
   ]
  },
  {
   "cell_type": "markdown",
   "id": "43a6ca42",
   "metadata": {},
   "source": [
    "## Author\n",
    "\n",
    "This notebook was created by: AHMED SABER ABDEL MOATY"
   ]
  },
  {
   "cell_type": "code",
   "execution_count": null,
   "id": "dd6a3cb5",
   "metadata": {},
   "outputs": [],
   "source": []
  }
 ],
 "metadata": {
  "kernelspec": {
   "display_name": "Python 3 (ipykernel)",
   "language": "python",
   "name": "python3"
  },
  "language_info": {
   "codemirror_mode": {
    "name": "ipython",
    "version": 3
   },
   "file_extension": ".py",
   "mimetype": "text/x-python",
   "name": "python",
   "nbconvert_exporter": "python",
   "pygments_lexer": "ipython3",
   "version": "3.10.9"
  }
 },
 "nbformat": 4,
 "nbformat_minor": 5
}
